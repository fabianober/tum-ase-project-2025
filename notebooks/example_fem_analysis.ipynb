{
 "cells": [
  {
   "cell_type": "markdown",
   "id": "ee8e7b86",
   "metadata": {},
   "source": [
    "# Wing Structure FEM Analysis\n",
    "\n",
    "This notebook loads FEM data from CSV, processes it using material values, and computes reserve factors, buckling criteria, etc."
   ]
  },
  {
   "cell_type": "code",
   "execution_count": 8,
   "id": "eaf24d1d",
   "metadata": {},
   "outputs": [],
   "source": [
    "# Imports\n",
    "import pandas as pd\n",
    "import numpy as np\n",
    "import matplotlib.pyplot as plt"
   ]
  },
  {
   "cell_type": "code",
   "execution_count": 9,
   "id": "b85f0209",
   "metadata": {},
   "outputs": [
    {
     "name": "stdout",
     "output_type": "stream",
     "text": [
      "CSV file not found. Please check the path.\n"
     ]
    }
   ],
   "source": [
    "# 📂 Load FEM CSV data\n",
    "# Place your CSV file in the 'data/' folder\n",
    "csv_path = '../data/fem_output.csv'  # Adjust path if needed\n",
    "try:\n",
    "    df = pd.read_csv(csv_path)\n",
    "    display(df.head())\n",
    "except FileNotFoundError:\n",
    "    print('CSV file not found. Please check the path.')"
   ]
  },
  {
   "cell_type": "code",
   "execution_count": 10,
   "id": "fef3a52b",
   "metadata": {},
   "outputs": [
    {
     "ename": "NameError",
     "evalue": "name 'df' is not defined",
     "output_type": "error",
     "traceback": [
      "\u001b[31m---------------------------------------------------------------------------\u001b[39m",
      "\u001b[31mNameError\u001b[39m                                 Traceback (most recent call last)",
      "\u001b[36mCell\u001b[39m\u001b[36m \u001b[39m\u001b[32mIn[10]\u001b[39m\u001b[32m, line 6\u001b[39m\n\u001b[32m      1\u001b[39m \u001b[38;5;66;03m# ⚙️ Example: Calculate Reserve Factor (RF)\u001b[39;00m\n\u001b[32m      2\u001b[39m \u001b[38;5;66;03m# Formula: RF = allowable / actual\u001b[39;00m\n\u001b[32m      3\u001b[39m \u001b[38;5;66;03m# This is just an example and should be adjusted to your actual formulas\u001b[39;00m\n\u001b[32m      5\u001b[39m allowable_stress = \u001b[32m250e6\u001b[39m  \u001b[38;5;66;03m# Pa (example value)\u001b[39;00m\n\u001b[32m----> \u001b[39m\u001b[32m6\u001b[39m df[\u001b[33m'\u001b[39m\u001b[33mRF\u001b[39m\u001b[33m'\u001b[39m] = allowable_stress / \u001b[43mdf\u001b[49m[\u001b[33m'\u001b[39m\u001b[33mstress\u001b[39m\u001b[33m'\u001b[39m]\n\u001b[32m      7\u001b[39m display(df[[\u001b[33m'\u001b[39m\u001b[33melement_id\u001b[39m\u001b[33m'\u001b[39m, \u001b[33m'\u001b[39m\u001b[33mstress\u001b[39m\u001b[33m'\u001b[39m, \u001b[33m'\u001b[39m\u001b[33mRF\u001b[39m\u001b[33m'\u001b[39m]].head())\n",
      "\u001b[31mNameError\u001b[39m: name 'df' is not defined"
     ]
    }
   ],
   "source": [
    "# ⚙️ Example: Calculate Reserve Factor (RF)\n",
    "# Formula: RF = allowable / actual\n",
    "# This is just an example and should be adjusted to your actual formulas\n",
    "\n",
    "allowable_stress = 250e6  # Pa (example value)\n",
    "df['RF'] = allowable_stress / df['stress']\n",
    "display(df[['element_id', 'stress', 'RF']].head())"
   ]
  },
  {
   "cell_type": "code",
   "execution_count": null,
   "id": "15f3c874",
   "metadata": {},
   "outputs": [],
   "source": [
    "# 📉 Plotting RF distribution\n",
    "plt.hist(df['RF'], bins=50)\n",
    "plt.xlabel('Reserve Factor')\n",
    "plt.ylabel('Count')\n",
    "plt.title('RF Distribution')\n",
    "plt.grid(True)\n",
    "plt.show()"
   ]
  },
  {
   "cell_type": "markdown",
   "id": "6264ba8a",
   "metadata": {},
   "source": [
    "## ✅ Next Steps\n",
    "- Add your real material values\n",
    "- Implement buckling criteria\n",
    "- Filter or highlight critical elements\n",
    "- Export results if needed"
   ]
  }
 ],
 "metadata": {
  "kernelspec": {
   "display_name": "Python 3",
   "language": "python",
   "name": "python3"
  },
  "language_info": {
   "codemirror_mode": {
    "name": "ipython",
    "version": 3
   },
   "file_extension": ".py",
   "mimetype": "text/x-python",
   "name": "python",
   "nbconvert_exporter": "python",
   "pygments_lexer": "ipython3",
   "version": "3.12.1"
  }
 },
 "nbformat": 4,
 "nbformat_minor": 5
}
