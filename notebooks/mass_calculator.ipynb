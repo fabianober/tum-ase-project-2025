{
 "cells": [
  {
   "cell_type": "markdown",
   "id": "613a2839",
   "metadata": {},
   "source": [
    "## This code will quickly calculate the total mass"
   ]
  },
  {
   "cell_type": "code",
   "execution_count": 1,
   "id": "55d99fa1",
   "metadata": {},
   "outputs": [],
   "source": [
    "name = 'yannis'"
   ]
  },
  {
   "cell_type": "markdown",
   "id": "e48e40aa",
   "metadata": {},
   "source": [
    "### Imports"
   ]
  },
  {
   "cell_type": "code",
   "execution_count": 2,
   "id": "f0c4399b",
   "metadata": {},
   "outputs": [],
   "source": [
    "import pandas as pd\n",
    "import numpy as np\n",
    "import sys \n",
    "import os\n",
    "sys.path.insert(0, os.path.abspath('..'))\n",
    "sys.path.insert(0, os.path.abspath('../formulas'))\n",
    "\n",
    "from formulas.columnbuckling import *\n",
    "from formulas.panels import *\n",
    "from formulas.strength import *\n",
    "from formulas.helpers import *"
   ]
  },
  {
   "cell_type": "code",
   "execution_count": 3,
   "id": "4deb11d6",
   "metadata": {},
   "outputs": [],
   "source": [
    "# config parser\n",
    "import configparser\n",
    "\n",
    "# get the rounding_digits from the ini file\n",
    "config = configparser.ConfigParser()\n",
    "config.read('../config.ini')\n",
    "rounding_digits = int(config['DEFAULT']['rounding_digits'])"
   ]
  },
  {
   "cell_type": "markdown",
   "id": "99c8fae3",
   "metadata": {},
   "source": [
    "### Calculate"
   ]
  },
  {
   "cell_type": "code",
   "execution_count": 4,
   "id": "1711f5df",
   "metadata": {},
   "outputs": [
    {
     "ename": "KeyError",
     "evalue": "\"None of ['elements'] are in the columns\"",
     "output_type": "error",
     "traceback": [
      "\u001b[31m---------------------------------------------------------------------------\u001b[39m",
      "\u001b[31mKeyError\u001b[39m                                  Traceback (most recent call last)",
      "\u001b[32m~\\AppData\\Local\\Temp\\ipykernel_19644\\1513114219.py\u001b[39m in \u001b[36m?\u001b[39m\u001b[34m()\u001b[39m\n\u001b[32m      1\u001b[39m elementdf = pd.read_csv(f'../data/{name}/element_masses.csv')\n\u001b[32m      2\u001b[39m elementdf.reset_index()\n\u001b[32m----> \u001b[39m\u001b[32m3\u001b[39m elementdf.set_index(\u001b[33m'elements'\u001b[39m, inplace=\u001b[38;5;28;01mTrue\u001b[39;00m)\n\u001b[32m      4\u001b[39m \n\u001b[32m      5\u001b[39m total_mass = elementdf[\u001b[33m'mass'\u001b[39m].sum()\n\u001b[32m      6\u001b[39m \n",
      "\u001b[32mc:\\Users\\Yanni\\OneDrive\\Desktop\\Yannis\\Studium\\4.Semester\\ASE2\\ASE project\\tum-ase-project-2025\\.venv\\Lib\\site-packages\\pandas\\core\\frame.py\u001b[39m in \u001b[36m?\u001b[39m\u001b[34m(self, keys, drop, append, inplace, verify_integrity)\u001b[39m\n\u001b[32m   6118\u001b[39m                     \u001b[38;5;28;01mif\u001b[39;00m \u001b[38;5;28;01mnot\u001b[39;00m found:\n\u001b[32m   6119\u001b[39m                         missing.append(col)\n\u001b[32m   6120\u001b[39m \n\u001b[32m   6121\u001b[39m         \u001b[38;5;28;01mif\u001b[39;00m missing:\n\u001b[32m-> \u001b[39m\u001b[32m6122\u001b[39m             \u001b[38;5;28;01mraise\u001b[39;00m KeyError(f\"None of {missing} are in the columns\")\n\u001b[32m   6123\u001b[39m \n\u001b[32m   6124\u001b[39m         \u001b[38;5;28;01mif\u001b[39;00m inplace:\n\u001b[32m   6125\u001b[39m             frame = self\n",
      "\u001b[31mKeyError\u001b[39m: \"None of ['elements'] are in the columns\""
     ]
    }
   ],
   "source": [
    "elementdf = pd.read_csv(f'../data/{name}/element_masses.csv')\n",
    "elementdf.reset_index()\n",
    "elementdf.set_index('elements', inplace=True)\n",
    "\n",
    "total_mass = elementdf['mass'].sum()\n",
    "\n",
    "total_mass_kg = round(total_mass * 1000, rounding_digits)\n",
    "\n",
    "# Create output directory if it doesn't exist\n",
    "output_dir = f'../data/{name}/output'\n",
    "os.makedirs(output_dir, exist_ok=True)\n",
    "\n",
    "# Write total mass to txt file\n",
    "with open(f'{output_dir}/total_mass.txt', 'w') as f:\n",
    "    f.write(str(total_mass_kg) + ' kg')"
   ]
  },
  {
   "cell_type": "code",
   "execution_count": null,
   "id": "7a51a6ef",
   "metadata": {},
   "outputs": [],
   "source": []
  }
 ],
 "metadata": {
  "kernelspec": {
   "display_name": ".venv",
   "language": "python",
   "name": "python3"
  },
  "language_info": {
   "codemirror_mode": {
    "name": "ipython",
    "version": 3
   },
   "file_extension": ".py",
   "mimetype": "text/x-python",
   "name": "python",
   "nbconvert_exporter": "python",
   "pygments_lexer": "ipython3",
   "version": "3.13.0"
  }
 },
 "nbformat": 4,
 "nbformat_minor": 5
}
