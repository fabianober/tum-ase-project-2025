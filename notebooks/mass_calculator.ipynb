{
 "cells": [
  {
   "cell_type": "markdown",
   "id": "613a2839",
   "metadata": {},
   "source": [
    "## This code will quickly calculate the total mass"
   ]
  },
  {
   "cell_type": "code",
   "execution_count": 45,
   "id": "55d99fa1",
   "metadata": {},
   "outputs": [],
   "source": [
    "name = 'fabian'"
   ]
  },
  {
   "cell_type": "markdown",
   "id": "e48e40aa",
   "metadata": {},
   "source": [
    "### Imports"
   ]
  },
  {
   "cell_type": "code",
   "execution_count": 46,
   "id": "f0c4399b",
   "metadata": {},
   "outputs": [],
   "source": [
    "import pandas as pd\n",
    "import numpy as np\n",
    "import sys \n",
    "import os\n",
    "sys.path.insert(0, os.path.abspath('..'))\n",
    "sys.path.insert(0, os.path.abspath('../formulas'))\n",
    "\n",
    "from formulas.columnbuckling import *\n",
    "from formulas.panels import *\n",
    "from formulas.strength import *\n",
    "from formulas.helpers import *"
   ]
  },
  {
   "cell_type": "code",
   "execution_count": 47,
   "id": "4deb11d6",
   "metadata": {},
   "outputs": [],
   "source": [
    "# config parser\n",
    "import configparser\n",
    "\n",
    "# get the rounding_digits from the ini file\n",
    "config = configparser.ConfigParser()\n",
    "config.read('../config.ini')\n",
    "rounding_digits = int(config['DEFAULT']['rounding_digits'])"
   ]
  },
  {
   "cell_type": "markdown",
   "id": "99c8fae3",
   "metadata": {},
   "source": [
    "### Calculate"
   ]
  },
  {
   "cell_type": "code",
   "execution_count": 48,
   "id": "1711f5df",
   "metadata": {},
   "outputs": [
    {
     "name": "stdout",
     "output_type": "stream",
     "text": [
      "          id     mass\n",
      "elements             \n",
      "1          1  0.00054\n",
      "2          2  0.00054\n",
      "3          3  0.00054\n",
      "4          4  0.00054\n",
      "5          5  0.00054\n",
      "6          6  0.00054\n",
      "7          7  0.00054\n",
      "8          8  0.00054\n",
      "9          9  0.00054\n",
      "10        10  0.00054\n",
      "11        11  0.00054\n",
      "12        12  0.00054\n",
      "13        13  0.00054\n",
      "14        14  0.00054\n",
      "15        15  0.00054\n",
      "16        16  0.00054\n",
      "17        17  0.00054\n",
      "18        18  0.00054\n",
      "19        19  0.00054\n",
      "20        20  0.00054\n",
      "21        21  0.00054\n",
      "22        22  0.00054\n",
      "23        23  0.00054\n",
      "24        24  0.00054\n",
      "25        25  0.00054\n",
      "26        26  0.00054\n",
      "27        27  0.00054\n",
      "28        28  0.00054\n",
      "29        29  0.00054\n",
      "30        30  0.00054\n",
      "40        40  0.00013\n",
      "41        41  0.00013\n",
      "42        42  0.00013\n",
      "70        70  0.00000\n",
      "43        43  0.00013\n",
      "44        44  0.00013\n",
      "45        45  0.00013\n",
      "46        46  0.00013\n",
      "47        47  0.00013\n",
      "48        48  0.00013\n",
      "49        49  0.00013\n",
      "50        50  0.00013\n",
      "51        51  0.00013\n",
      "52        52  0.00013\n",
      "53        53  0.00013\n",
      "54        54  0.00013\n",
      "55        55  0.00013\n",
      "56        56  0.00013\n",
      "57        57  0.00013\n",
      "58        58  0.00013\n",
      "59        59  0.00013\n",
      "60        60  0.00013\n",
      "61        61  0.00013\n",
      "62        62  0.00013\n",
      "63        63  0.00013\n",
      "64        64  0.00013\n",
      "65        65  0.00013\n",
      "66        66  0.00013\n"
     ]
    }
   ],
   "source": [
    "elementdf = pd.read_csv(f'../data/{name}/element_masses.csv')\n",
    "elementdf.reset_index()\n",
    "elementdf.set_index('elements', inplace=True)\n",
    "\n",
    "elementdf.drop(axis=0, index=[31, 32, 33, 34, 35, 36], inplace=True)\n",
    "\n",
    "print(elementdf.to_string())\n",
    "\n",
    "total_mass = elementdf['mass'].sum()\n",
    "\n",
    "total_mass_kg = round(total_mass * 1000, rounding_digits)\n",
    "\n",
    "# Create output directory if it doesn't exist\n",
    "output_dir = f'../data/{name}/output'\n",
    "os.makedirs(output_dir, exist_ok=True)\n",
    "\n",
    "# Write total mass to txt file\n",
    "with open(f'{output_dir}/total_mass.txt', 'w') as f:\n",
    "    f.write(str(total_mass_kg) + ' kg')"
   ]
  }
 ],
 "metadata": {
  "kernelspec": {
   "display_name": "base",
   "language": "python",
   "name": "python3"
  },
  "language_info": {
   "codemirror_mode": {
    "name": "ipython",
    "version": 3
   },
   "file_extension": ".py",
   "mimetype": "text/x-python",
   "name": "python",
   "nbconvert_exporter": "python",
   "pygments_lexer": "ipython3",
   "version": "3.12.9"
  }
 },
 "nbformat": 4,
 "nbformat_minor": 5
}
