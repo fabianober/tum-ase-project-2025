{
 "cells": [
  {
   "cell_type": "markdown",
   "id": "613a2839",
   "metadata": {},
   "source": [
    "## This code will quickly calculate the total mass"
   ]
  },
  {
   "cell_type": "code",
   "execution_count": 117,
   "id": "55d99fa1",
   "metadata": {},
   "outputs": [],
   "source": [
    "name = 'fabian'"
   ]
  },
  {
   "cell_type": "markdown",
   "id": "e48e40aa",
   "metadata": {},
   "source": [
    "### Imports"
   ]
  },
  {
   "cell_type": "code",
   "execution_count": 118,
   "id": "f0c4399b",
   "metadata": {},
   "outputs": [],
   "source": [
    "import pandas as pd\n",
    "import numpy as np\n",
    "import sys \n",
    "import os\n",
    "sys.path.insert(0, os.path.abspath('..'))\n",
    "sys.path.insert(0, os.path.abspath('../formulas'))\n",
    "\n",
    "from formulas.columnbuckling import *\n",
    "from formulas.panels import *\n",
    "from formulas.strength import *\n",
    "from formulas.helpers import *"
   ]
  },
  {
   "cell_type": "markdown",
   "id": "99c8fae3",
   "metadata": {},
   "source": [
    "### Calculate"
   ]
  },
  {
   "cell_type": "code",
   "execution_count": 119,
   "id": "1711f5df",
   "metadata": {},
   "outputs": [],
   "source": [
    "elementdf = pd.read_csv(f'../data/{name}/element_masses.csv')\n",
    "elementdf.reset_index()\n",
    "elementdf.set_index('elements', inplace=True)\n",
    "\n",
    "total_mass = elementdf['mass'].sum()\n",
    "\n",
    "total_mass_kg = round(total_mass * 1000, 2)\n",
    "\n",
    "# Create output directory if it doesn't exist\n",
    "output_dir = f'../data/{name}/output'\n",
    "os.makedirs(output_dir, exist_ok=True)\n",
    "\n",
    "# Write total mass to txt file\n",
    "with open(f'{output_dir}/total_mass.txt', 'w') as f:\n",
    "    f.write(str(total_mass_kg) + ' kg')"
   ]
  },
  {
   "cell_type": "code",
   "execution_count": null,
   "id": "7a51a6ef",
   "metadata": {},
   "outputs": [],
   "source": []
  }
 ],
 "metadata": {
  "kernelspec": {
   "display_name": "base",
   "language": "python",
   "name": "python3"
  },
  "language_info": {
   "codemirror_mode": {
    "name": "ipython",
    "version": 3
   },
   "file_extension": ".py",
   "mimetype": "text/x-python",
   "name": "python",
   "nbconvert_exporter": "python",
   "pygments_lexer": "ipython3",
   "version": "3.12.9"
  }
 },
 "nbformat": 4,
 "nbformat_minor": 5
}
