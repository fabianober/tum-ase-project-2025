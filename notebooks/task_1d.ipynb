{
 "cells": [
  {
   "cell_type": "markdown",
   "id": "e0c23729",
   "metadata": {},
   "source": [
    "# Task 1 d, Calculating strength reserve factor of all elements"
   ]
  },
  {
   "cell_type": "markdown",
   "id": "d786f0c7",
   "metadata": {},
   "source": [
    "# Imports "
   ]
  },
  {
   "cell_type": "code",
   "execution_count": null,
   "id": "049134c2",
   "metadata": {},
   "outputs": [],
   "source": [
    "import pandas as pd"
   ]
  },
  {
   "cell_type": "markdown",
   "id": "defd5fb0",
   "metadata": {},
   "source": [
    "# File Selection "
   ]
  },
  {
   "cell_type": "markdown",
   "id": "0a7da396",
   "metadata": {},
   "source": [
    "# Constants "
   ]
  },
  {
   "cell_type": "code",
   "execution_count": null,
   "id": "f837db4a",
   "metadata": {},
   "outputs": [],
   "source": []
  },
  {
   "cell_type": "markdown",
   "id": "066366f1",
   "metadata": {},
   "source": [
    "# Setting up Data Frames "
   ]
  },
  {
   "cell_type": "code",
   "execution_count": null,
   "id": "96c7add5",
   "metadata": {},
   "outputs": [],
   "source": []
  },
  {
   "cell_type": "markdown",
   "id": "4b6985d7",
   "metadata": {},
   "source": [
    "# Applying Functions "
   ]
  },
  {
   "cell_type": "code",
   "execution_count": null,
   "id": "2bf190f2",
   "metadata": {},
   "outputs": [],
   "source": []
  },
  {
   "cell_type": "markdown",
   "id": "cecca069",
   "metadata": {},
   "source": [
    "# Export back to Excel "
   ]
  }
 ],
 "metadata": {
  "language_info": {
   "name": "python"
  }
 },
 "nbformat": 4,
 "nbformat_minor": 5
}
