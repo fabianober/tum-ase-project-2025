{
 "cells": [
  {
   "cell_type": "markdown",
   "id": "e0c23729",
   "metadata": {},
   "source": [
    "# Task 1 d, Calculating strength reserve factor of all elements"
   ]
  },
  {
   "cell_type": "markdown",
   "id": "ee693c80",
   "metadata": {},
   "source": [
    "## Please enter your name (daniel, fabian, felix, yannis)"
   ]
  },
  {
   "cell_type": "code",
   "execution_count": 14,
   "id": "6805e651",
   "metadata": {},
   "outputs": [],
   "source": [
    "name = \"fabian\""
   ]
  },
  {
   "cell_type": "markdown",
   "id": "d786f0c7",
   "metadata": {},
   "source": [
    "## Imports "
   ]
  },
  {
   "cell_type": "code",
   "execution_count": null,
   "id": "049134c2",
   "metadata": {},
   "outputs": [],
   "source": [
    "import pandas as pd\n",
    "from formulas.columnbuckling import *\n",
    "from formulas.panels import *\n",
    "from formulas.strength import *"
   ]
  },
  {
   "cell_type": "markdown",
   "id": "defd5fb0",
   "metadata": {},
   "source": [
    "## File Selection "
   ]
  },
  {
   "cell_type": "code",
   "execution_count": 16,
   "id": "c88d4dfe",
   "metadata": {},
   "outputs": [
    {
     "name": "stdout",
     "output_type": "stream",
     "text": [
      "           Component Name  sigmaXX  sigmaYY  sigmaZZ  sigmaXY  sigmaXZ  \\\n",
      "Element ID                                                               \n",
      "1                  panel1   -66.67   12.750        0    26.25        0   \n",
      "2                  panel1   -82.97   20.870        0    27.10        0   \n",
      "3                  panel1   -67.63   20.740        0    36.97        0   \n",
      "4                  panel2   -97.67    2.415        0    34.52        0   \n",
      "5                  panel2   -89.50   25.350        0    27.04        0   \n",
      "...                   ...      ...      ...      ...      ...      ...   \n",
      "26                 panel9   -44.75   12.670        0   162.30        0   \n",
      "27                 panel9   -52.64  -65.300        0   190.50        0   \n",
      "28                panel10   -36.45   32.350        0   192.30        0   \n",
      "29                panel10   -41.48   10.440        0   162.60        0   \n",
      "30                panel10   -30.70  -15.600        0   187.00        0   \n",
      "\n",
      "            sigmaYZ        Load Case  \n",
      "Element ID                            \n",
      "1                 0  Subcase 1 (LC1)  \n",
      "2                 0  Subcase 1 (LC1)  \n",
      "3                 0  Subcase 1 (LC1)  \n",
      "4                 0  Subcase 1 (LC1)  \n",
      "5                 0  Subcase 1 (LC1)  \n",
      "...             ...              ...  \n",
      "26                0  Subcase 3 (LC3)  \n",
      "27                0  Subcase 3 (LC3)  \n",
      "28                0  Subcase 3 (LC3)  \n",
      "29                0  Subcase 3 (LC3)  \n",
      "30                0  Subcase 3 (LC3)  \n",
      "\n",
      "[90 rows x 8 columns]\n"
     ]
    }
   ],
   "source": [
    "df = pd.read_excel(f'../data/{name}/panel.xlsx', index_col=0)\n",
    "print(df)"
   ]
  },
  {
   "cell_type": "markdown",
   "id": "0a7da396",
   "metadata": {},
   "source": [
    "## Constants "
   ]
  },
  {
   "cell_type": "code",
   "execution_count": null,
   "id": "f837db4a",
   "metadata": {},
   "outputs": [],
   "source": []
  },
  {
   "cell_type": "markdown",
   "id": "066366f1",
   "metadata": {},
   "source": [
    "## Setting up Data Frames "
   ]
  },
  {
   "cell_type": "code",
   "execution_count": null,
   "id": "96c7add5",
   "metadata": {},
   "outputs": [],
   "source": []
  },
  {
   "cell_type": "markdown",
   "id": "4b6985d7",
   "metadata": {},
   "source": [
    "## Applying Functions "
   ]
  },
  {
   "cell_type": "code",
   "execution_count": null,
   "id": "2bf190f2",
   "metadata": {},
   "outputs": [],
   "source": [
    "df.apply(strength)"
   ]
  },
  {
   "cell_type": "markdown",
   "id": "cecca069",
   "metadata": {},
   "source": [
    "## Export back to Excel "
   ]
  }
 ],
 "metadata": {
  "kernelspec": {
   "display_name": "base",
   "language": "python",
   "name": "python3"
  },
  "language_info": {
   "codemirror_mode": {
    "name": "ipython",
    "version": 3
   },
   "file_extension": ".py",
   "mimetype": "text/x-python",
   "name": "python",
   "nbconvert_exporter": "python",
   "pygments_lexer": "ipython3",
   "version": "3.12.9"
  }
 },
 "nbformat": 4,
 "nbformat_minor": 5
}
