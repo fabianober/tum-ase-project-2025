{
 "cells": [
  {
   "cell_type": "markdown",
   "id": "b7527a60",
   "metadata": {},
   "source": [
    "# Calculating the reserve Factors of the panels "
   ]
  },
  {
   "cell_type": "markdown",
   "id": "24a0badb",
   "metadata": {},
   "source": [
    "# Please enter your name "
   ]
  },
  {
   "cell_type": "code",
   "execution_count": 9,
   "id": "0f64ea3f",
   "metadata": {},
   "outputs": [],
   "source": [
    "name = \"yannis\""
   ]
  },
  {
   "cell_type": "markdown",
   "id": "ef8cbea2",
   "metadata": {},
   "source": [
    "# Imports "
   ]
  },
  {
   "cell_type": "code",
   "execution_count": 10,
   "id": "d2dfe616",
   "metadata": {},
   "outputs": [],
   "source": [
    "import pandas as pd\n",
    "import pandas as pd\n",
    "import sys \n",
    "import os\n",
    "sys.path.insert(0, os.path.abspath('..'))\n",
    "sys.path.insert(0, os.path.abspath('../formulas'))\n",
    "\n",
    "from formulas.columnbuckling import *\n",
    "from formulas.panels import *\n",
    "from formulas.strength import * "
   ]
  },
  {
   "cell_type": "markdown",
   "id": "824d48af",
   "metadata": {},
   "source": [
    "# Constants (Changed based on your data)"
   ]
  },
  {
   "cell_type": "code",
   "execution_count": 11,
   "id": "d4e9ae0d",
   "metadata": {},
   "outputs": [],
   "source": [
    "if name == 'yannis':\n",
    "    sigma_yield = 490\n",
    "    EModulus = 65241.07 \n",
    "elif name == 'fabian':\n",
    "    sigma_yield = 490\n",
    "    EModulus = 65420.46\n",
    "elif name == 'daniel':\n",
    "    sigma_yield = 490\n",
    "    EModulus = 65669.47\n",
    "elif name == 'felix':\n",
    "    sigma_yield = 490\n",
    "    EModulus = 65669.47\n"
   ]
  },
  {
   "cell_type": "markdown",
   "id": "1427070f",
   "metadata": {},
   "source": [
    "# Open stress values & properties of panels "
   ]
  },
  {
   "cell_type": "code",
   "execution_count": 12,
   "id": "b9fda63b",
   "metadata": {},
   "outputs": [
    {
     "name": "stdout",
     "output_type": "stream",
     "text": [
      "           Component Name  sigmaXX  sigmaYY  sigmaXY        Load Case\n",
      "Element ID                                                           \n",
      "1                  panel1   -65.78   12.580    25.90  Subcase 1 (LC1)\n",
      "2                  panel1   -81.87   20.590    26.74  Subcase 1 (LC1)\n",
      "3                  panel1   -66.73   20.470    36.48  Subcase 1 (LC1)\n",
      "4                  panel2   -96.38    2.383    34.06  Subcase 1 (LC1)\n",
      "5                  panel2   -88.32   25.010    26.68  Subcase 1 (LC1)\n",
      "          shortestside  thickness  volume  longestside\n",
      "elements                                              \n",
      "1                  200          4  200000          250\n",
      "2                  200          4  200000          250\n",
      "3                  200          4  200000          250\n",
      "4                  200          4  200000          250\n",
      "5                  200          4  200000          250\n"
     ]
    }
   ],
   "source": [
    "paneldf = pd.read_excel(f'../data/{name}/panel.xlsx', index_col=0)\n",
    "paneldf = paneldf.drop(['sigmaZZ', 'sigmaXZ', 'sigmaYZ'],axis=1)\n",
    "panelPropertiesdf = pd.read_excel(f'../data/{name}/panel_properties.xlsx', index_col=0)\n",
    "print(paneldf.head(5))\n",
    "print(panelPropertiesdf.head(5))"
   ]
  },
  {
   "cell_type": "markdown",
   "id": "4bfb39ff",
   "metadata": {},
   "source": [
    "# Split up the loadcases "
   ]
  },
  {
   "cell_type": "code",
   "execution_count": null,
   "id": "26a73cea",
   "metadata": {},
   "outputs": [
    {
     "ename": "KeyError",
     "evalue": "False",
     "output_type": "error",
     "traceback": [
      "\u001b[31m---------------------------------------------------------------------------\u001b[39m",
      "\u001b[31mKeyError\u001b[39m                                  Traceback (most recent call last)",
      "\u001b[36mFile \u001b[39m\u001b[32mc:\\Users\\Yanni\\OneDrive\\Desktop\\Yannis\\Studium\\4.Semester\\ASE2\\ASE project\\tum-ase-project-2025\\.venv\\Lib\\site-packages\\pandas\\core\\indexes\\base.py:3805\u001b[39m, in \u001b[36mIndex.get_loc\u001b[39m\u001b[34m(self, key)\u001b[39m\n\u001b[32m   3804\u001b[39m \u001b[38;5;28;01mtry\u001b[39;00m:\n\u001b[32m-> \u001b[39m\u001b[32m3805\u001b[39m     \u001b[38;5;28;01mreturn\u001b[39;00m \u001b[38;5;28;43mself\u001b[39;49m\u001b[43m.\u001b[49m\u001b[43m_engine\u001b[49m\u001b[43m.\u001b[49m\u001b[43mget_loc\u001b[49m\u001b[43m(\u001b[49m\u001b[43mcasted_key\u001b[49m\u001b[43m)\u001b[49m\n\u001b[32m   3806\u001b[39m \u001b[38;5;28;01mexcept\u001b[39;00m \u001b[38;5;167;01mKeyError\u001b[39;00m \u001b[38;5;28;01mas\u001b[39;00m err:\n",
      "\u001b[36mFile \u001b[39m\u001b[32mindex.pyx:167\u001b[39m, in \u001b[36mpandas._libs.index.IndexEngine.get_loc\u001b[39m\u001b[34m()\u001b[39m\n",
      "\u001b[36mFile \u001b[39m\u001b[32mindex.pyx:196\u001b[39m, in \u001b[36mpandas._libs.index.IndexEngine.get_loc\u001b[39m\u001b[34m()\u001b[39m\n",
      "\u001b[36mFile \u001b[39m\u001b[32mpandas\\\\_libs\\\\hashtable_class_helper.pxi:7081\u001b[39m, in \u001b[36mpandas._libs.hashtable.PyObjectHashTable.get_item\u001b[39m\u001b[34m()\u001b[39m\n",
      "\u001b[36mFile \u001b[39m\u001b[32mpandas\\\\_libs\\\\hashtable_class_helper.pxi:7089\u001b[39m, in \u001b[36mpandas._libs.hashtable.PyObjectHashTable.get_item\u001b[39m\u001b[34m()\u001b[39m\n",
      "\u001b[31mKeyError\u001b[39m: False",
      "\nThe above exception was the direct cause of the following exception:\n",
      "\u001b[31mKeyError\u001b[39m                                  Traceback (most recent call last)",
      "\u001b[36mCell\u001b[39m\u001b[36m \u001b[39m\u001b[32mIn[13]\u001b[39m\u001b[32m, line 1\u001b[39m\n\u001b[32m----> \u001b[39m\u001b[32m1\u001b[39m loadCase1df = \u001b[43mpaneldf\u001b[49m\u001b[43m[\u001b[49m\u001b[33;43m'\u001b[39;49m\u001b[33;43mLoad Case\u001b[39;49m\u001b[33;43m'\u001b[39;49m\u001b[43m \u001b[49m\u001b[43m==\u001b[49m\u001b[43m \u001b[49m\u001b[33;43m'\u001b[39;49m\u001b[33;43mSubcase 1 (LC1)\u001b[39;49m\u001b[33;43m'\u001b[39;49m\u001b[43m]\u001b[49m\n\u001b[32m      2\u001b[39m loadCase2df = paneldf[\u001b[33m'\u001b[39m\u001b[33mLoad Case\u001b[39m\u001b[33m'\u001b[39m == \u001b[33m'\u001b[39m\u001b[33mSubcase 2 (LC2)\u001b[39m\u001b[33m'\u001b[39m]\n\u001b[32m      3\u001b[39m loadCase3df = paneldf[\u001b[33m'\u001b[39m\u001b[33mLoad Case\u001b[39m\u001b[33m'\u001b[39m == \u001b[33m'\u001b[39m\u001b[33mSubcase 3 (LC3)\u001b[39m\u001b[33m'\u001b[39m]\n",
      "\u001b[36mFile \u001b[39m\u001b[32mc:\\Users\\Yanni\\OneDrive\\Desktop\\Yannis\\Studium\\4.Semester\\ASE2\\ASE project\\tum-ase-project-2025\\.venv\\Lib\\site-packages\\pandas\\core\\frame.py:4102\u001b[39m, in \u001b[36mDataFrame.__getitem__\u001b[39m\u001b[34m(self, key)\u001b[39m\n\u001b[32m   4100\u001b[39m \u001b[38;5;28;01mif\u001b[39;00m \u001b[38;5;28mself\u001b[39m.columns.nlevels > \u001b[32m1\u001b[39m:\n\u001b[32m   4101\u001b[39m     \u001b[38;5;28;01mreturn\u001b[39;00m \u001b[38;5;28mself\u001b[39m._getitem_multilevel(key)\n\u001b[32m-> \u001b[39m\u001b[32m4102\u001b[39m indexer = \u001b[38;5;28;43mself\u001b[39;49m\u001b[43m.\u001b[49m\u001b[43mcolumns\u001b[49m\u001b[43m.\u001b[49m\u001b[43mget_loc\u001b[49m\u001b[43m(\u001b[49m\u001b[43mkey\u001b[49m\u001b[43m)\u001b[49m\n\u001b[32m   4103\u001b[39m \u001b[38;5;28;01mif\u001b[39;00m is_integer(indexer):\n\u001b[32m   4104\u001b[39m     indexer = [indexer]\n",
      "\u001b[36mFile \u001b[39m\u001b[32mc:\\Users\\Yanni\\OneDrive\\Desktop\\Yannis\\Studium\\4.Semester\\ASE2\\ASE project\\tum-ase-project-2025\\.venv\\Lib\\site-packages\\pandas\\core\\indexes\\base.py:3812\u001b[39m, in \u001b[36mIndex.get_loc\u001b[39m\u001b[34m(self, key)\u001b[39m\n\u001b[32m   3807\u001b[39m     \u001b[38;5;28;01mif\u001b[39;00m \u001b[38;5;28misinstance\u001b[39m(casted_key, \u001b[38;5;28mslice\u001b[39m) \u001b[38;5;129;01mor\u001b[39;00m (\n\u001b[32m   3808\u001b[39m         \u001b[38;5;28misinstance\u001b[39m(casted_key, abc.Iterable)\n\u001b[32m   3809\u001b[39m         \u001b[38;5;129;01mand\u001b[39;00m \u001b[38;5;28many\u001b[39m(\u001b[38;5;28misinstance\u001b[39m(x, \u001b[38;5;28mslice\u001b[39m) \u001b[38;5;28;01mfor\u001b[39;00m x \u001b[38;5;129;01min\u001b[39;00m casted_key)\n\u001b[32m   3810\u001b[39m     ):\n\u001b[32m   3811\u001b[39m         \u001b[38;5;28;01mraise\u001b[39;00m InvalidIndexError(key)\n\u001b[32m-> \u001b[39m\u001b[32m3812\u001b[39m     \u001b[38;5;28;01mraise\u001b[39;00m \u001b[38;5;167;01mKeyError\u001b[39;00m(key) \u001b[38;5;28;01mfrom\u001b[39;00m\u001b[38;5;250m \u001b[39m\u001b[34;01merr\u001b[39;00m\n\u001b[32m   3813\u001b[39m \u001b[38;5;28;01mexcept\u001b[39;00m \u001b[38;5;167;01mTypeError\u001b[39;00m:\n\u001b[32m   3814\u001b[39m     \u001b[38;5;66;03m# If we have a listlike key, _check_indexing_error will raise\u001b[39;00m\n\u001b[32m   3815\u001b[39m     \u001b[38;5;66;03m#  InvalidIndexError. Otherwise we fall through and re-raise\u001b[39;00m\n\u001b[32m   3816\u001b[39m     \u001b[38;5;66;03m#  the TypeError.\u001b[39;00m\n\u001b[32m   3817\u001b[39m     \u001b[38;5;28mself\u001b[39m._check_indexing_error(key)\n",
      "\u001b[31mKeyError\u001b[39m: False"
     ]
    }
   ],
   "source": [
    "loadCase1df = paneldf[paneldf['Load Case'] == 'Subcase 1 (LC1)']\n",
    "loadCase2df = paneldf[paneldf['Load Case'] == 'Subcase 2 (LC2)']\n",
    "loadCase3df = paneldf[paneldf['Load Case'] == 'Subcase 3 (LC3)']"
   ]
  }
 ],
 "metadata": {
  "kernelspec": {
   "display_name": ".venv",
   "language": "python",
   "name": "python3"
  },
  "language_info": {
   "codemirror_mode": {
    "name": "ipython",
    "version": 3
   },
   "file_extension": ".py",
   "mimetype": "text/x-python",
   "name": "python",
   "nbconvert_exporter": "python",
   "pygments_lexer": "ipython3",
   "version": "3.13.0"
  }
 },
 "nbformat": 4,
 "nbformat_minor": 5
}
