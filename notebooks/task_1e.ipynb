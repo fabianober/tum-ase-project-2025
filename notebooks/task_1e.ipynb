{
 "cells": [
  {
   "cell_type": "markdown",
   "id": "b7527a60",
   "metadata": {},
   "source": [
    "# Calculating the reserve Factors of the panels "
   ]
  },
  {
   "cell_type": "markdown",
   "id": "24a0badb",
   "metadata": {},
   "source": [
    "# Please enter your name "
   ]
  },
  {
   "cell_type": "code",
   "execution_count": 33,
   "id": "0f64ea3f",
   "metadata": {},
   "outputs": [],
   "source": [
    "name = \"yannis\""
   ]
  },
  {
   "cell_type": "markdown",
   "id": "ef8cbea2",
   "metadata": {},
   "source": [
    "# Imports "
   ]
  },
  {
   "cell_type": "code",
   "execution_count": 34,
   "id": "d2dfe616",
   "metadata": {},
   "outputs": [],
   "source": [
    "import pandas as pd\n",
    "import pandas as pd\n",
    "import sys \n",
    "import os\n",
    "sys.path.insert(0, os.path.abspath('..'))\n",
    "sys.path.insert(0, os.path.abspath('../formulas'))\n",
    "\n",
    "from formulas.columnbuckling import *\n",
    "from formulas.panels import *\n",
    "from formulas.strength import * "
   ]
  },
  {
   "cell_type": "markdown",
   "id": "824d48af",
   "metadata": {},
   "source": [
    "# Constants (Changed based on your data)"
   ]
  },
  {
   "cell_type": "code",
   "execution_count": 35,
   "id": "d4e9ae0d",
   "metadata": {},
   "outputs": [],
   "source": [
    "if name == 'yannis':\n",
    "    sigma_yield = 490\n",
    "    EModulus = 65241.07 \n",
    "elif name == 'fabian':\n",
    "    sigma_yield = 490\n",
    "    EModulus = 65420.46\n",
    "elif name == 'daniel':\n",
    "    sigma_yield = 490\n",
    "    EModulus = 65669.47\n",
    "elif name == 'felix':\n",
    "    sigma_yield = 490\n",
    "    EModulus = 65669.47\n"
   ]
  },
  {
   "cell_type": "markdown",
   "id": "1427070f",
   "metadata": {},
   "source": [
    "# Open stress values & properties of panels "
   ]
  },
  {
   "cell_type": "code",
   "execution_count": 36,
   "id": "b9fda63b",
   "metadata": {},
   "outputs": [
    {
     "name": "stdout",
     "output_type": "stream",
     "text": [
      "   Element ID Component Name  sigmaXX  sigmaYY  sigmaXY        Load Case\n",
      "0           1         panel1   -65.78   12.580    25.90  Subcase 1 (LC1)\n",
      "1           2         panel1   -81.87   20.590    26.74  Subcase 1 (LC1)\n",
      "2           3         panel1   -66.73   20.470    36.48  Subcase 1 (LC1)\n",
      "3           4         panel2   -96.38    2.383    34.06  Subcase 1 (LC1)\n",
      "4           5         panel2   -88.32   25.010    26.68  Subcase 1 (LC1)\n",
      "   Element ID  shortestside  thickness  volume  longestside\n",
      "0           1           200          4  200000          250\n",
      "1           2           200          4  200000          250\n",
      "2           3           200          4  200000          250\n",
      "3           4           200          4  200000          250\n",
      "4           5           200          4  200000          250\n"
     ]
    }
   ],
   "source": [
    "#Imoport panel stress file and reformat \n",
    "paneldf = pd.read_excel(f'../data/{name}/panel.xlsx', index_col=0)\n",
    "paneldf = paneldf.drop(['sigmaZZ', 'sigmaXZ', 'sigmaYZ'],axis=1)\n",
    "paneldf = paneldf.reset_index()\n",
    "#Import panel properties and reformat\n",
    "panelPropertiesdf = pd.read_excel(f'../data/{name}/panel_properties.xlsx', index_col=0)\n",
    "panelPropertiesdf = panelPropertiesdf.reset_index()\n",
    "panelPropertiesdf = panelPropertiesdf.rename(columns={'elements': 'Element ID'})\n",
    "\n",
    "print(paneldf.head(5))\n",
    "print(panelPropertiesdf.head(5))"
   ]
  },
  {
   "cell_type": "markdown",
   "id": "4bfb39ff",
   "metadata": {},
   "source": [
    "# Split up the loadcases "
   ]
  },
  {
   "cell_type": "code",
   "execution_count": 37,
   "id": "26a73cea",
   "metadata": {},
   "outputs": [
    {
     "data": {
      "text/html": [
       "<div>\n",
       "<style scoped>\n",
       "    .dataframe tbody tr th:only-of-type {\n",
       "        vertical-align: middle;\n",
       "    }\n",
       "\n",
       "    .dataframe tbody tr th {\n",
       "        vertical-align: top;\n",
       "    }\n",
       "\n",
       "    .dataframe thead th {\n",
       "        text-align: right;\n",
       "    }\n",
       "</style>\n",
       "<table border=\"1\" class=\"dataframe\">\n",
       "  <thead>\n",
       "    <tr style=\"text-align: right;\">\n",
       "      <th></th>\n",
       "      <th>Component Name</th>\n",
       "      <th>sigmaXX</th>\n",
       "      <th>sigmaYY</th>\n",
       "      <th>sigmaXY</th>\n",
       "      <th>Load Case</th>\n",
       "      <th>shortestside</th>\n",
       "      <th>thickness</th>\n",
       "      <th>volume</th>\n",
       "      <th>longestside</th>\n",
       "    </tr>\n",
       "    <tr>\n",
       "      <th>Element ID</th>\n",
       "      <th></th>\n",
       "      <th></th>\n",
       "      <th></th>\n",
       "      <th></th>\n",
       "      <th></th>\n",
       "      <th></th>\n",
       "      <th></th>\n",
       "      <th></th>\n",
       "      <th></th>\n",
       "    </tr>\n",
       "  </thead>\n",
       "  <tbody>\n",
       "    <tr>\n",
       "      <th>1</th>\n",
       "      <td>panel1</td>\n",
       "      <td>-65.78</td>\n",
       "      <td>12.580</td>\n",
       "      <td>25.90</td>\n",
       "      <td>Subcase 1 (LC1)</td>\n",
       "      <td>200</td>\n",
       "      <td>4</td>\n",
       "      <td>200000</td>\n",
       "      <td>250</td>\n",
       "    </tr>\n",
       "    <tr>\n",
       "      <th>2</th>\n",
       "      <td>panel1</td>\n",
       "      <td>-81.87</td>\n",
       "      <td>20.590</td>\n",
       "      <td>26.74</td>\n",
       "      <td>Subcase 1 (LC1)</td>\n",
       "      <td>200</td>\n",
       "      <td>4</td>\n",
       "      <td>200000</td>\n",
       "      <td>250</td>\n",
       "    </tr>\n",
       "    <tr>\n",
       "      <th>3</th>\n",
       "      <td>panel1</td>\n",
       "      <td>-66.73</td>\n",
       "      <td>20.470</td>\n",
       "      <td>36.48</td>\n",
       "      <td>Subcase 1 (LC1)</td>\n",
       "      <td>200</td>\n",
       "      <td>4</td>\n",
       "      <td>200000</td>\n",
       "      <td>250</td>\n",
       "    </tr>\n",
       "    <tr>\n",
       "      <th>4</th>\n",
       "      <td>panel2</td>\n",
       "      <td>-96.38</td>\n",
       "      <td>2.383</td>\n",
       "      <td>34.06</td>\n",
       "      <td>Subcase 1 (LC1)</td>\n",
       "      <td>200</td>\n",
       "      <td>4</td>\n",
       "      <td>200000</td>\n",
       "      <td>250</td>\n",
       "    </tr>\n",
       "    <tr>\n",
       "      <th>5</th>\n",
       "      <td>panel2</td>\n",
       "      <td>-88.32</td>\n",
       "      <td>25.010</td>\n",
       "      <td>26.68</td>\n",
       "      <td>Subcase 1 (LC1)</td>\n",
       "      <td>200</td>\n",
       "      <td>4</td>\n",
       "      <td>200000</td>\n",
       "      <td>250</td>\n",
       "    </tr>\n",
       "  </tbody>\n",
       "</table>\n",
       "</div>"
      ],
      "text/plain": [
       "           Component Name  sigmaXX  sigmaYY  sigmaXY        Load Case  \\\n",
       "Element ID                                                              \n",
       "1                  panel1   -65.78   12.580    25.90  Subcase 1 (LC1)   \n",
       "2                  panel1   -81.87   20.590    26.74  Subcase 1 (LC1)   \n",
       "3                  panel1   -66.73   20.470    36.48  Subcase 1 (LC1)   \n",
       "4                  panel2   -96.38    2.383    34.06  Subcase 1 (LC1)   \n",
       "5                  panel2   -88.32   25.010    26.68  Subcase 1 (LC1)   \n",
       "\n",
       "            shortestside  thickness  volume  longestside  \n",
       "Element ID                                                \n",
       "1                    200          4  200000          250  \n",
       "2                    200          4  200000          250  \n",
       "3                    200          4  200000          250  \n",
       "4                    200          4  200000          250  \n",
       "5                    200          4  200000          250  "
      ]
     },
     "execution_count": 37,
     "metadata": {},
     "output_type": "execute_result"
    }
   ],
   "source": [
    "loadCase1df = paneldf[paneldf['Load Case'] == 'Subcase 1 (LC1)']\n",
    "loadCase2df = paneldf[paneldf['Load Case'] == 'Subcase 2 (LC2)']\n",
    "loadCase3df = paneldf[paneldf['Load Case'] == 'Subcase 3 (LC3)']\n",
    "# Add the data to load case \n",
    "loadCase1df = pd.merge(loadCase1df, panelPropertiesdf, on='Element ID')\n",
    "loadCase2df = pd.merge(loadCase2df, panelPropertiesdf, on='Element ID')\n",
    "loadCase3df = pd.merge(loadCase3df, panelPropertiesdf, on='Element ID')\n",
    "\n",
    "#Set index back to Element ID \n",
    "loadCase1df = loadCase1df.set_index('Element ID')\n",
    "loadCase2df = loadCase2df.set_index('Element ID')\n",
    "loadCase3df = loadCase3df.set_index('Element ID')\n",
    "\n",
    "#Give some overview \n",
    "loadCase1df.head(5)"
   ]
  },
  {
   "cell_type": "markdown",
   "id": "706b450e",
   "metadata": {},
   "source": [
    "# Now we need to combine into panels where we have columns:\n",
    "-Panel ID (as our ID)\n",
    "-sigmaXXavg\n",
    "-sigmaYYavg\n",
    "-sigmaXYavg\n",
    "-length\n",
    "-width\n",
    "-thickness \n"
   ]
  },
  {
   "cell_type": "code",
   "execution_count": null,
   "id": "d23eeb70",
   "metadata": {},
   "outputs": [
    {
     "data": {
      "text/plain": [
       "<pandas.core.groupby.generic.DataFrameGroupBy object at 0x00000236E6920980>"
      ]
     },
     "execution_count": 38,
     "metadata": {},
     "output_type": "execute_result"
    }
   ],
   "source": [
    "# For this we could use a custom aggregation function \n",
    "loadCase1df.groupby('Component Name').agg({\n",
    "    'sigmaXXavg':,\n",
    "    'sigmaYYavg':,\n",
    "    'sigmaXYavg':,\n",
    "    'length':,\n",
    "    'width':,\n",
    "    'thickness':\n",
    "})"
   ]
  }
 ],
 "metadata": {
  "kernelspec": {
   "display_name": ".venv",
   "language": "python",
   "name": "python3"
  },
  "language_info": {
   "codemirror_mode": {
    "name": "ipython",
    "version": 3
   },
   "file_extension": ".py",
   "mimetype": "text/x-python",
   "name": "python",
   "nbconvert_exporter": "python",
   "pygments_lexer": "ipython3",
   "version": "3.13.0"
  }
 },
 "nbformat": 4,
 "nbformat_minor": 5
}
