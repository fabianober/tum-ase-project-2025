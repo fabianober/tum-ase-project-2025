{
 "cells": [
  {
   "cell_type": "markdown",
   "id": "b7527a60",
   "metadata": {},
   "source": [
    "# Calculating the reserve Factors of the panels "
   ]
  },
  {
   "cell_type": "markdown",
   "id": "24a0badb",
   "metadata": {},
   "source": [
    "# Please enter your name "
   ]
  },
  {
   "cell_type": "code",
   "execution_count": 1,
   "id": "0f64ea3f",
   "metadata": {},
   "outputs": [],
   "source": [
    "name = \"fabian\""
   ]
  },
  {
   "cell_type": "markdown",
   "id": "ef8cbea2",
   "metadata": {},
   "source": [
    "# Imports "
   ]
  },
  {
   "cell_type": "code",
   "execution_count": 2,
   "id": "d2dfe616",
   "metadata": {},
   "outputs": [],
   "source": [
    "import pandas as pd\n",
    "import pandas as pd\n",
    "import sys \n",
    "import os\n",
    "sys.path.insert(0, os.path.abspath('..'))\n",
    "sys.path.insert(0, os.path.abspath('../formulas'))\n",
    "\n",
    "from formulas.columnbuckling import *\n",
    "from formulas.panels import *\n",
    "from formulas.strength import * "
   ]
  },
  {
   "cell_type": "markdown",
   "id": "824d48af",
   "metadata": {},
   "source": [
    "# Constants (Changed based on your data)"
   ]
  },
  {
   "cell_type": "code",
   "execution_count": 3,
   "id": "d4e9ae0d",
   "metadata": {},
   "outputs": [],
   "source": [
    "if name == 'yannis':\n",
    "    sigma_yield = 490\n",
    "    EModulus = 65241.07 \n",
    "elif name == 'fabian':\n",
    "    sigma_yield = 490\n",
    "    EModulus = 65420.46\n",
    "elif name == 'daniel':\n",
    "    sigma_yield = 490\n",
    "    EModulus = 65669.47\n",
    "elif name == 'felix':\n",
    "    sigma_yield = 490\n",
    "    EModulus = 65669.47\n"
   ]
  },
  {
   "cell_type": "markdown",
   "id": "1427070f",
   "metadata": {},
   "source": [
    "# Open stress values of panels "
   ]
  },
  {
   "cell_type": "code",
   "execution_count": 4,
   "id": "b9fda63b",
   "metadata": {},
   "outputs": [
    {
     "name": "stdout",
     "output_type": "stream",
     "text": [
      "           Component Name  sigmaXX  sigmaYY  sigmaZZ  sigmaXY  sigmaXZ  \\\n",
      "Element ID                                                               \n",
      "1                  panel1   -66.67   12.750        0    26.25        0   \n",
      "2                  panel1   -82.97   20.870        0    27.10        0   \n",
      "3                  panel1   -67.63   20.740        0    36.97        0   \n",
      "4                  panel2   -97.67    2.415        0    34.52        0   \n",
      "5                  panel2   -89.50   25.350        0    27.04        0   \n",
      "6                  panel2   -96.29   26.600        0    28.46        0   \n",
      "7                  panel3   -94.14   -2.962        0    33.47        0   \n",
      "8                  panel3   -96.16   20.020        0    26.79        0   \n",
      "9                  panel3   -93.57   37.300        0    29.76        0   \n",
      "10                 panel4   -87.25  -10.680        0    35.39        0   \n",
      "\n",
      "            sigmaYZ        Load Case  \n",
      "Element ID                            \n",
      "1                 0  Subcase 1 (LC1)  \n",
      "2                 0  Subcase 1 (LC1)  \n",
      "3                 0  Subcase 1 (LC1)  \n",
      "4                 0  Subcase 1 (LC1)  \n",
      "5                 0  Subcase 1 (LC1)  \n",
      "6                 0  Subcase 1 (LC1)  \n",
      "7                 0  Subcase 1 (LC1)  \n",
      "8                 0  Subcase 1 (LC1)  \n",
      "9                 0  Subcase 1 (LC1)  \n",
      "10                0  Subcase 1 (LC1)  \n"
     ]
    }
   ],
   "source": [
    "paneldf = pd.read_excel(f'../data/{name}/panel.xlsx', index_col=0)\n",
    "print(paneldf.head(10))"
   ]
  }
 ],
 "metadata": {
  "kernelspec": {
   "display_name": ".venv",
   "language": "python",
   "name": "python3"
  },
  "language_info": {
   "codemirror_mode": {
    "name": "ipython",
    "version": 3
   },
   "file_extension": ".py",
   "mimetype": "text/x-python",
   "name": "python",
   "nbconvert_exporter": "python",
   "pygments_lexer": "ipython3",
   "version": "3.13.0"
  }
 },
 "nbformat": 4,
 "nbformat_minor": 5
}
