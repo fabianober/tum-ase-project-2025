{
 "cells": [
  {
   "cell_type": "markdown",
   "id": "08b9365e",
   "metadata": {},
   "source": [
    "# Task 1 f, Calculating reserve factors against column buckling using Euler-Johnson"
   ]
  },
  {
   "cell_type": "markdown",
   "id": "52f1fb0a",
   "metadata": {},
   "source": [
    "## Please enter your name (daniel, fabian, felix, yannis)"
   ]
  },
  {
   "cell_type": "code",
   "execution_count": 1,
   "id": "121e630b",
   "metadata": {},
   "outputs": [],
   "source": [
    "name = 'fabian'"
   ]
  },
  {
   "cell_type": "markdown",
   "id": "91b707d8",
   "metadata": {},
   "source": [
    "## We need from the data file:\n",
    "- volume of the element\n",
    "- Iyy calculated with `eight_str, width_str, thickness_web, thickness_flange, thickness_skin, stringer_pitch`\n",
    "- dimensions"
   ]
  },
  {
   "cell_type": "markdown",
   "id": "594b30a9",
   "metadata": {},
   "source": [
    "## Constants"
   ]
  },
  {
   "cell_type": "code",
   "execution_count": null,
   "id": "3d3854eb",
   "metadata": {},
   "outputs": [],
   "source": [
    "stringer_pitch = 200\n",
    "effective_width = stringer_pitch/2"
   ]
  }
 ],
 "metadata": {
  "kernelspec": {
   "display_name": "base",
   "language": "python",
   "name": "python3"
  },
  "language_info": {
   "codemirror_mode": {
    "name": "ipython",
    "version": 3
   },
   "file_extension": ".py",
   "mimetype": "text/x-python",
   "name": "python",
   "nbconvert_exporter": "python",
   "pygments_lexer": "ipython3",
   "version": "3.12.9"
  }
 },
 "nbformat": 4,
 "nbformat_minor": 5
}
