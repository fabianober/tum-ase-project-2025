{
 "cells": [
  {
   "cell_type": "markdown",
   "id": "08b9365e",
   "metadata": {},
   "source": [
    "# Task 1 f, Calculating reserve factors against column buckling using Euler-Johnson"
   ]
  },
  {
   "cell_type": "markdown",
   "id": "91b707d8",
   "metadata": {},
   "source": [
    "## We need from the data file:\n",
    "- volume of the element\n",
    "- Iyy calculated with `height_str, width_str, thickness_web, thickness_flange, thickness_skin, stringer_pitch`\n",
    "- dimensions\n",
    "- `EulerJohnson(EModulus, I_y, area, length, height_str, thickness_flange, thickness_web, radius, sigma_yield, sigma_applied, c=1)`"
   ]
  },
  {
   "cell_type": "markdown",
   "id": "52f1fb0a",
   "metadata": {},
   "source": [
    "## Please enter your name (daniel, fabian, felix, yannis)"
   ]
  },
  {
   "cell_type": "code",
   "execution_count": 1,
   "id": "121e630b",
   "metadata": {},
   "outputs": [],
   "source": [
    "name = 'fabian'"
   ]
  },
  {
   "cell_type": "markdown",
   "id": "6f4b1762",
   "metadata": {},
   "source": [
    "## Imports"
   ]
  },
  {
   "cell_type": "code",
   "execution_count": 2,
   "id": "453f2dd5",
   "metadata": {},
   "outputs": [],
   "source": [
    "import pandas as pd\n",
    "import numpy as np\n",
    "import sys \n",
    "import os\n",
    "sys.path.insert(0, os.path.abspath('..'))\n",
    "sys.path.insert(0, os.path.abspath('../formulas'))\n",
    "\n",
    "from formulas.columnbuckling import *\n",
    "from formulas.panels import *\n",
    "from formulas.strength import *\n",
    "from formulas.helpers import *"
   ]
  },
  {
   "cell_type": "markdown",
   "id": "594b30a9",
   "metadata": {},
   "source": [
    "## Constants"
   ]
  },
  {
   "cell_type": "code",
   "execution_count": 3,
   "id": "3d3854eb",
   "metadata": {},
   "outputs": [
    {
     "name": "stdout",
     "output_type": "stream",
     "text": [
      "Your personal data is: sigma_yield = 490, EModulus = 65420.46. Please verify.\n"
     ]
    }
   ],
   "source": [
    "personal_data = personal_data_provider(name)\n",
    "sigma_yield = personal_data[0]\n",
    "EModulus = personal_data[1]\n",
    "print(f\"Your personal data is: sigma_yield = {sigma_yield}, EModulus = {EModulus}. Please verify.\")\n",
    "\n",
    "stringer_pitch = 200\n",
    "effective_width = stringer_pitch/2\n",
    "\n",
    "panel_element_length = 750/3\n",
    "stringer_element_length = 750/3\n",
    "\n",
    "# Hat stringer parameters\n",
    "DIM1 = 25\n",
    "DIM2 = 2\n",
    "DIM3 = 20\n",
    "DIM4 = 10\n",
    "\n",
    "thickness_skin = 10\n"
   ]
  },
  {
   "cell_type": "markdown",
   "id": "51f5c254",
   "metadata": {},
   "source": [
    "## Cross-Section Properties of the hat stringer"
   ]
  },
  {
   "cell_type": "code",
   "execution_count": 4,
   "id": "206aeb58",
   "metadata": {},
   "outputs": [],
   "source": [
    "cs_properties = crosssectional_properties_hat_skin(DIM1, DIM2, DIM3, DIM4, thickness_skin, effective_width, stringer_depth=stringer_element_length)\n",
    "effective_panel_volume = effective_width * thickness_skin * panel_element_length # 750 mm is the length of the panel, 3 FE per panel"
   ]
  },
  {
   "cell_type": "markdown",
   "id": "c52a24eb",
   "metadata": {},
   "source": [
    "## Open stress values & properties of panels"
   ]
  },
  {
   "cell_type": "code",
   "execution_count": 5,
   "id": "ccb61846",
   "metadata": {},
   "outputs": [
    {
     "name": "stdout",
     "output_type": "stream",
     "text": [
      "   Element ID Component Name  sigmaXX        Load Case\n",
      "0          40      stringer1   -77.67  Subcase 1 (LC1)\n",
      "1          41      stringer1   -70.60  Subcase 1 (LC1)\n",
      "2          42      stringer1   -79.68  Subcase 1 (LC1)\n",
      "3          43      stringer2   -81.30  Subcase 1 (LC1)\n",
      "4          44      stringer2   -85.24  Subcase 1 (LC1)\n",
      "   Element ID Component Name  sigmaXX  sigmaYY  sigmaXY        Load Case\n",
      "0           1         panel1   -66.67   12.750    26.25  Subcase 1 (LC1)\n",
      "1           2         panel1   -82.97   20.870    27.10  Subcase 1 (LC1)\n",
      "2           3         panel1   -67.63   20.740    36.97  Subcase 1 (LC1)\n",
      "3           4         panel2   -97.67    2.415    34.52  Subcase 1 (LC1)\n",
      "4           5         panel2   -89.50   25.350    27.04  Subcase 1 (LC1)\n",
      "   Element ID     mass  thickness\n",
      "0           1  0.00054          4\n",
      "1           2  0.00054          4\n",
      "2           3  0.00054          4\n",
      "3           4  0.00054          4\n",
      "4           5  0.00054          4\n"
     ]
    }
   ],
   "source": [
    "#Imoport panel stress file and reformat \n",
    "paneldf = pd.read_excel(f'../data/{name}/panel.xlsx', index_col=0)\n",
    "paneldf = paneldf.drop(['sigmaZZ', 'sigmaXZ', 'sigmaYZ'],axis=1)\n",
    "paneldf = paneldf.reset_index()\n",
    "\n",
    "# Import stringer properties\n",
    "stringerdf = pd.read_excel(f'../data/{name}/stringer.xlsx', index_col=0)\n",
    "stringerdf = stringerdf.reset_index()\n",
    "print(stringerdf.head(5))\n",
    "\n",
    "#Import panel properties and reformat\n",
    "panelPropertiesdf = pd.read_excel(f'../data/{name}/panel_properties.xlsx', index_col=0)\n",
    "panelPropertiesdf = panelPropertiesdf.reset_index()\n",
    "panelPropertiesdf = panelPropertiesdf.rename(columns={'elements': 'Element ID'})\n",
    "\n",
    "print(paneldf.head(5))\n",
    "print(panelPropertiesdf.head(5))"
   ]
  },
  {
   "cell_type": "markdown",
   "id": "d07ed2cf",
   "metadata": {},
   "source": [
    "## Split up the loadcases"
   ]
  },
  {
   "cell_type": "code",
   "execution_count": 6,
   "id": "3478d9a7",
   "metadata": {},
   "outputs": [
    {
     "name": "stdout",
     "output_type": "stream",
     "text": [
      "   Element ID Component Name  sigmaXX        Load Case\n",
      "0          40      stringer1   -77.67  Subcase 1 (LC1)\n",
      "1          41      stringer1   -70.60  Subcase 1 (LC1)\n",
      "2          42      stringer1   -79.68  Subcase 1 (LC1)\n",
      "3          43      stringer2   -81.30  Subcase 1 (LC1)\n",
      "4          44      stringer2   -85.24  Subcase 1 (LC1)\n"
     ]
    },
    {
     "data": {
      "text/html": [
       "<div>\n",
       "<style scoped>\n",
       "    .dataframe tbody tr th:only-of-type {\n",
       "        vertical-align: middle;\n",
       "    }\n",
       "\n",
       "    .dataframe tbody tr th {\n",
       "        vertical-align: top;\n",
       "    }\n",
       "\n",
       "    .dataframe thead th {\n",
       "        text-align: right;\n",
       "    }\n",
       "</style>\n",
       "<table border=\"1\" class=\"dataframe\">\n",
       "  <thead>\n",
       "    <tr style=\"text-align: right;\">\n",
       "      <th></th>\n",
       "      <th>Element ID</th>\n",
       "      <th>Component Name</th>\n",
       "      <th>sigmaXX</th>\n",
       "      <th>sigmaYY</th>\n",
       "      <th>sigmaXY</th>\n",
       "      <th>Load Case</th>\n",
       "      <th>mass</th>\n",
       "      <th>thickness</th>\n",
       "    </tr>\n",
       "  </thead>\n",
       "  <tbody>\n",
       "    <tr>\n",
       "      <th>0</th>\n",
       "      <td>1</td>\n",
       "      <td>panel1</td>\n",
       "      <td>-66.67</td>\n",
       "      <td>12.750</td>\n",
       "      <td>26.25</td>\n",
       "      <td>Subcase 1 (LC1)</td>\n",
       "      <td>0.00054</td>\n",
       "      <td>4</td>\n",
       "    </tr>\n",
       "    <tr>\n",
       "      <th>1</th>\n",
       "      <td>2</td>\n",
       "      <td>panel1</td>\n",
       "      <td>-82.97</td>\n",
       "      <td>20.870</td>\n",
       "      <td>27.10</td>\n",
       "      <td>Subcase 1 (LC1)</td>\n",
       "      <td>0.00054</td>\n",
       "      <td>4</td>\n",
       "    </tr>\n",
       "    <tr>\n",
       "      <th>2</th>\n",
       "      <td>3</td>\n",
       "      <td>panel1</td>\n",
       "      <td>-67.63</td>\n",
       "      <td>20.740</td>\n",
       "      <td>36.97</td>\n",
       "      <td>Subcase 1 (LC1)</td>\n",
       "      <td>0.00054</td>\n",
       "      <td>4</td>\n",
       "    </tr>\n",
       "    <tr>\n",
       "      <th>3</th>\n",
       "      <td>4</td>\n",
       "      <td>panel2</td>\n",
       "      <td>-97.67</td>\n",
       "      <td>2.415</td>\n",
       "      <td>34.52</td>\n",
       "      <td>Subcase 1 (LC1)</td>\n",
       "      <td>0.00054</td>\n",
       "      <td>4</td>\n",
       "    </tr>\n",
       "    <tr>\n",
       "      <th>4</th>\n",
       "      <td>5</td>\n",
       "      <td>panel2</td>\n",
       "      <td>-89.50</td>\n",
       "      <td>25.350</td>\n",
       "      <td>27.04</td>\n",
       "      <td>Subcase 1 (LC1)</td>\n",
       "      <td>0.00054</td>\n",
       "      <td>4</td>\n",
       "    </tr>\n",
       "  </tbody>\n",
       "</table>\n",
       "</div>"
      ],
      "text/plain": [
       "   Element ID Component Name  sigmaXX  sigmaYY  sigmaXY        Load Case  \\\n",
       "0           1         panel1   -66.67   12.750    26.25  Subcase 1 (LC1)   \n",
       "1           2         panel1   -82.97   20.870    27.10  Subcase 1 (LC1)   \n",
       "2           3         panel1   -67.63   20.740    36.97  Subcase 1 (LC1)   \n",
       "3           4         panel2   -97.67    2.415    34.52  Subcase 1 (LC1)   \n",
       "4           5         panel2   -89.50   25.350    27.04  Subcase 1 (LC1)   \n",
       "\n",
       "      mass  thickness  \n",
       "0  0.00054          4  \n",
       "1  0.00054          4  \n",
       "2  0.00054          4  \n",
       "3  0.00054          4  \n",
       "4  0.00054          4  "
      ]
     },
     "execution_count": 6,
     "metadata": {},
     "output_type": "execute_result"
    }
   ],
   "source": [
    "loadCase1df = paneldf[paneldf['Load Case'] == 'Subcase 1 (LC1)']\n",
    "loadCase2df = paneldf[paneldf['Load Case'] == 'Subcase 2 (LC2)']\n",
    "loadCase3df = paneldf[paneldf['Load Case'] == 'Subcase 3 (LC3)']\n",
    "# Add the data to load case \n",
    "loadCase1df = pd.merge(loadCase1df, panelPropertiesdf, on='Element ID')\n",
    "loadCase2df = pd.merge(loadCase2df, panelPropertiesdf, on='Element ID')\n",
    "loadCase3df = pd.merge(loadCase3df, panelPropertiesdf, on='Element ID')\n",
    "\n",
    "# Now for the stringer properties, split into load cases\n",
    "stringer_loadCase1d = stringerdf[stringerdf['Load Case'] == 'Subcase 1 (LC1)']\n",
    "stringer_loadCase2d = stringerdf[stringerdf['Load Case'] == 'Subcase 2 (LC2)']\n",
    "stringer_loadCase3d = stringerdf[stringerdf['Load Case'] == 'Subcase 3 (LC3)']\n",
    "print(stringer_loadCase1d.head(5))\n",
    "\n",
    "#Give some overview \n",
    "loadCase1df.head(5)\n"
   ]
  },
  {
   "cell_type": "markdown",
   "id": "4f9bd38c",
   "metadata": {},
   "source": [
    "## Combine stringers with their adjacent panel-halfs"
   ]
  },
  {
   "cell_type": "code",
   "execution_count": 7,
   "id": "5596dcde",
   "metadata": {},
   "outputs": [],
   "source": [
    "cs_properties = crosssectional_properties_hat_skin(DIM1, DIM2, DIM3, DIM4, thickness_skin, effective_width, stringer_depth=stringer_element_length)\n",
    "Iyy = cs_properties[0]\n",
    "A_tot = cs_properties[1]"
   ]
  }
 ],
 "metadata": {
  "kernelspec": {
   "display_name": "base",
   "language": "python",
   "name": "python3"
  },
  "language_info": {
   "codemirror_mode": {
    "name": "ipython",
    "version": 3
   },
   "file_extension": ".py",
   "mimetype": "text/x-python",
   "name": "python",
   "nbconvert_exporter": "python",
   "pygments_lexer": "ipython3",
   "version": "3.12.9"
  }
 },
 "nbformat": 4,
 "nbformat_minor": 5
}
