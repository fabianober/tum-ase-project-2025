{
 "cells": [
  {
   "cell_type": "markdown",
   "id": "08b9365e",
   "metadata": {},
   "source": [
    "# Task 1 f, Calculating reserve factors against column buckling using Euler-Johnson"
   ]
  },
  {
   "cell_type": "markdown",
   "id": "91b707d8",
   "metadata": {},
   "source": [
    "## We need from the data file:\n",
    "- volume of the element\n",
    "- Iyy calculated with `height_str, width_str, thickness_web, thickness_flange, thickness_skin, stringer_pitch`\n",
    "- dimensions\n",
    "- `EulerJohnson(EModulus, I_y, area, length, height_str, thickness_flange, thickness_web, radius, sigma_yield, sigma_applied, c=1)`"
   ]
  },
  {
   "cell_type": "markdown",
   "id": "52f1fb0a",
   "metadata": {},
   "source": [
    "## Please enter your name (daniel, fabian, felix, yannis)"
   ]
  },
  {
   "cell_type": "code",
   "execution_count": 6,
   "id": "121e630b",
   "metadata": {},
   "outputs": [],
   "source": [
    "name = 'fabian'"
   ]
  },
  {
   "cell_type": "markdown",
   "id": "6f4b1762",
   "metadata": {},
   "source": [
    "## Imports"
   ]
  },
  {
   "cell_type": "code",
   "execution_count": 7,
   "id": "453f2dd5",
   "metadata": {},
   "outputs": [],
   "source": [
    "import pandas as pd\n",
    "import pandas as pd\n",
    "import sys \n",
    "import os\n",
    "sys.path.insert(0, os.path.abspath('..'))\n",
    "sys.path.insert(0, os.path.abspath('../formulas'))\n",
    "\n",
    "from formulas.columnbuckling import *\n",
    "from formulas.panels import *\n",
    "from formulas.strength import *\n",
    "from formulas.helpers import *"
   ]
  },
  {
   "cell_type": "markdown",
   "id": "594b30a9",
   "metadata": {},
   "source": [
    "## Constants"
   ]
  },
  {
   "cell_type": "code",
   "execution_count": 8,
   "id": "3d3854eb",
   "metadata": {},
   "outputs": [
    {
     "name": "stdout",
     "output_type": "stream",
     "text": [
      "Your personal data is: sigma_yield = 490, EModulus = 65420.46. Please verify.\n"
     ]
    }
   ],
   "source": [
    "personal_data = personal_data_provider(name)\n",
    "sigma_yield = personal_data[0]\n",
    "EModulus = personal_data[1]\n",
    "print(f\"Your personal data is: sigma_yield = {sigma_yield}, EModulus = {EModulus}. Please verify.\")\n",
    "\n",
    "stringer_pitch = 200\n",
    "effective_width = stringer_pitch/2\n",
    "\n",
    "# Hat stringer parameters\n",
    "DIM1 = 25\n",
    "DIM2 = 2\n",
    "DIM3 = 20\n",
    "DIM4 = 10\n",
    "\n",
    "thickness_skin = 10"
   ]
  },
  {
   "cell_type": "markdown",
   "id": "d07ed2cf",
   "metadata": {},
   "source": [
    "## File selection"
   ]
  },
  {
   "cell_type": "code",
   "execution_count": 9,
   "id": "3478d9a7",
   "metadata": {},
   "outputs": [
    {
     "name": "stdout",
     "output_type": "stream",
     "text": [
      "             mass  thickness\n",
      "elements                    \n",
      "1         0.00054          4\n",
      "2         0.00054          4\n",
      "3         0.00054          4\n",
      "4         0.00054          4\n",
      "5         0.00054          4\n",
      "6         0.00054          4\n",
      "7         0.00054          4\n",
      "8         0.00054          4\n",
      "9         0.00054          4\n",
      "10        0.00054          4\n"
     ]
    }
   ],
   "source": [
    "#Import the stress of the panels  \n",
    "paneldf = pd.read_excel(f'../data/{name}/panel_properties.xlsx', index_col=0)\n",
    "print(paneldf.head(10))"
   ]
  },
  {
   "cell_type": "markdown",
   "id": "9d4643e8",
   "metadata": {},
   "source": [
    "## Calculate Iyy and sigma_crip"
   ]
  },
  {
   "cell_type": "code",
   "execution_count": 10,
   "id": "6b627188",
   "metadata": {},
   "outputs": [
    {
     "data": {
      "text/plain": [
       "502.82"
      ]
     },
     "execution_count": 10,
     "metadata": {},
     "output_type": "execute_result"
    }
   ],
   "source": [
    "result = crosssectional_properties_hat_skin(DIM1, DIM2, DIM3, DIM4, thickness_skin, effective_width)\n",
    "Iyy = result[0]\n",
    "A_tot = result[1]\n",
    "r = math.sqrt(Iyy/A_tot)\n",
    "sigma_crip = sigma_crip(EModulus, DIM1, DIM2, DIM3, sigma_yield, r)\n",
    "sigma_crip"
   ]
  }
 ],
 "metadata": {
  "kernelspec": {
   "display_name": "base",
   "language": "python",
   "name": "python3"
  },
  "language_info": {
   "codemirror_mode": {
    "name": "ipython",
    "version": 3
   },
   "file_extension": ".py",
   "mimetype": "text/x-python",
   "name": "python",
   "nbconvert_exporter": "python",
   "pygments_lexer": "ipython3",
   "version": "3.12.9"
  }
 },
 "nbformat": 4,
 "nbformat_minor": 5
}
